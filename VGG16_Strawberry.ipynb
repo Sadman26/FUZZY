{
  "nbformat": 4,
  "nbformat_minor": 0,
  "metadata": {
    "colab": {
      "provenance": [],
      "authorship_tag": "ABX9TyNiEyKC5f9Ed5frrePWMMDH"
    },
    "kernelspec": {
      "name": "python3",
      "display_name": "Python 3"
    },
    "language_info": {
      "name": "python"
    }
  },
  "cells": [
    {
      "cell_type": "code",
      "execution_count": 1,
      "metadata": {
        "id": "jxhgzfYzfAvo"
      },
      "outputs": [],
      "source": [
        "from google.colab import drive\n",
        "import tensorflow as tf\n",
        "from tensorflow.keras.preprocessing.image import ImageDataGenerator\n",
        "from tensorflow.keras.applications import ResNet50\n",
        "from tensorflow.keras.applications import VGG16"
      ]
    },
    {
      "cell_type": "code",
      "source": [
        "drive.mount('/content/drive')"
      ],
      "metadata": {
        "colab": {
          "base_uri": "https://localhost:8080/"
        },
        "id": "hockAkaCfO6A",
        "outputId": "cd2d05c8-5de5-4a57-99c8-147922ca77f8"
      },
      "execution_count": 2,
      "outputs": [
        {
          "output_type": "stream",
          "name": "stdout",
          "text": [
            "Drive already mounted at /content/drive; to attempt to forcibly remount, call drive.mount(\"/content/drive\", force_remount=True).\n"
          ]
        }
      ]
    },
    {
      "cell_type": "code",
      "source": [
        "drive.mount(\"/content/drive/\", force_remount=True)"
      ],
      "metadata": {
        "colab": {
          "base_uri": "https://localhost:8080/"
        },
        "id": "GXmL-p4iff6g",
        "outputId": "4d4240c1-7e23-42a2-98d0-b52fb3d916a5"
      },
      "execution_count": 3,
      "outputs": [
        {
          "output_type": "stream",
          "name": "stdout",
          "text": [
            "Mounted at /content/drive/\n"
          ]
        }
      ]
    },
    {
      "cell_type": "code",
      "source": [
        "train_dir = '/content/drive/MyDrive/strawberry/sl_train'\n",
        "validation_dir = '/content/drive/MyDrive/strawberry/sl_test'"
      ],
      "metadata": {
        "id": "gYbPFQfxfk0E"
      },
      "execution_count": 4,
      "outputs": []
    },
    {
      "cell_type": "code",
      "source": [
        "IMG_SIZE = (224, 224)\n",
        "BATCH_SIZE = 32"
      ],
      "metadata": {
        "id": "_65uW2v5f34M"
      },
      "execution_count": 5,
      "outputs": []
    },
    {
      "cell_type": "code",
      "source": [
        "train_datagen = ImageDataGenerator(rescale=1./255,\n",
        "                                   rotation_range=20,\n",
        "                                   width_shift_range=0.2,\n",
        "                                   height_shift_range=0.2,\n",
        "                                   shear_range=0.2,\n",
        "                                   zoom_range=0.2,\n",
        "                                   horizontal_flip=True,\n",
        "                                   vertical_flip=True)\n"
      ],
      "metadata": {
        "id": "fNBnuJqzgKfd"
      },
      "execution_count": 6,
      "outputs": []
    },
    {
      "cell_type": "code",
      "source": [
        "validation_datagen = ImageDataGenerator(rescale=1./255)\n",
        "\n",
        "train_generator = train_datagen.flow_from_directory(train_dir,\n",
        "                                                    target_size=IMG_SIZE,\n",
        "                                                    batch_size=BATCH_SIZE,\n",
        "                                                    class_mode='categorical')\n",
        "\n",
        "validation_generator = validation_datagen.flow_from_directory(validation_dir,\n",
        "                                                              target_size=IMG_SIZE,\n",
        "                                                              batch_size=BATCH_SIZE,\n",
        "                                                              class_mode='categorical')"
      ],
      "metadata": {
        "colab": {
          "base_uri": "https://localhost:8080/"
        },
        "id": "fE5tuvW1gOsN",
        "outputId": "470146e8-e1d0-4bb2-f9e4-0612c10bde03"
      },
      "execution_count": 7,
      "outputs": [
        {
          "output_type": "stream",
          "name": "stdout",
          "text": [
            "Found 338 images belonging to 2 classes.\n",
            "Found 252 images belonging to 2 classes.\n"
          ]
        }
      ]
    },
    {
      "cell_type": "code",
      "source": [
        "# Load the ResNet50 model and freeze its layers\n",
        "base_model = VGG16(weights='imagenet', include_top=False, input_shape=(IMG_SIZE[0], IMG_SIZE[1], 3))\n",
        "for layer in base_model.layers:\n",
        "    layer.trainable = False\n",
        "\n",
        "# Add a custom classifier on top of the base model\n",
        "model = tf.keras.Sequential([\n",
        "    base_model,\n",
        "    tf.keras.layers.GlobalAveragePooling2D(),\n",
        "    tf.keras.layers.Dense(2, activation='softmax')\n",
        "])\n"
      ],
      "metadata": {
        "id": "wRwl_vp_gUaM"
      },
      "execution_count": 8,
      "outputs": []
    },
    {
      "cell_type": "code",
      "source": [
        "# Compile the model\n",
        "model.compile(optimizer='adam', loss='categorical_crossentropy', metrics=['accuracy'])"
      ],
      "metadata": {
        "id": "6nMHiEo_gaJC"
      },
      "execution_count": 9,
      "outputs": []
    },
    {
      "cell_type": "code",
      "source": [
        "# Train the model\n",
        "history = model.fit(train_generator,\n",
        "                    epochs=10,\n",
        "                    validation_data=validation_generator)"
      ],
      "metadata": {
        "colab": {
          "base_uri": "https://localhost:8080/"
        },
        "id": "9Aig17c9geDX",
        "outputId": "6e8aae36-cfc1-4013-b94f-bba3c3e3e48a"
      },
      "execution_count": 10,
      "outputs": [
        {
          "output_type": "stream",
          "name": "stdout",
          "text": [
            "Epoch 1/10\n",
            "11/11 [==============================] - 289s 27s/step - loss: 0.6957 - accuracy: 0.5710 - val_loss: 0.5279 - val_accuracy: 0.7817\n",
            "Epoch 2/10\n",
            "11/11 [==============================] - 282s 27s/step - loss: 0.5581 - accuracy: 0.6716 - val_loss: 0.4538 - val_accuracy: 0.7738\n",
            "Epoch 3/10\n",
            "11/11 [==============================] - 280s 27s/step - loss: 0.4917 - accuracy: 0.7722 - val_loss: 0.4329 - val_accuracy: 0.8889\n",
            "Epoch 4/10\n",
            "11/11 [==============================] - 279s 27s/step - loss: 0.4418 - accuracy: 0.8935 - val_loss: 0.4020 - val_accuracy: 0.9246\n",
            "Epoch 5/10\n",
            "11/11 [==============================] - 279s 27s/step - loss: 0.3934 - accuracy: 0.8994 - val_loss: 0.3612 - val_accuracy: 0.9286\n",
            "Epoch 6/10\n",
            "11/11 [==============================] - 237s 22s/step - loss: 0.3607 - accuracy: 0.9083 - val_loss: 0.3473 - val_accuracy: 0.9325\n",
            "Epoch 7/10\n",
            "11/11 [==============================] - 279s 27s/step - loss: 0.3264 - accuracy: 0.9290 - val_loss: 0.3172 - val_accuracy: 0.9246\n",
            "Epoch 8/10\n",
            "11/11 [==============================] - 280s 27s/step - loss: 0.3029 - accuracy: 0.9379 - val_loss: 0.3062 - val_accuracy: 0.9365\n",
            "Epoch 9/10\n",
            "11/11 [==============================] - 282s 27s/step - loss: 0.2797 - accuracy: 0.9438 - val_loss: 0.2927 - val_accuracy: 0.9405\n",
            "Epoch 10/10\n",
            "11/11 [==============================] - 281s 27s/step - loss: 0.2654 - accuracy: 0.9497 - val_loss: 0.2736 - val_accuracy: 0.9405\n"
          ]
        }
      ]
    },
    {
      "cell_type": "code",
      "source": [
        "loss, accuracy = model.evaluate(validation_generator)\n",
        "print('Validation accuracy:', accuracy)"
      ],
      "metadata": {
        "colab": {
          "base_uri": "https://localhost:8080/"
        },
        "id": "uxmMV6DplYtI",
        "outputId": "5bab7a30-dc2b-45e4-9e3f-ccc6d7fb1736"
      },
      "execution_count": 11,
      "outputs": [
        {
          "output_type": "stream",
          "name": "stdout",
          "text": [
            "8/8 [==============================] - 102s 13s/step - loss: 0.2736 - accuracy: 0.9405\n",
            "Validation accuracy: 0.9404761791229248\n"
          ]
        }
      ]
    }
  ]
}