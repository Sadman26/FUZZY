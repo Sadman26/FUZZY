{
  "nbformat": 4,
  "nbformat_minor": 0,
  "metadata": {
    "colab": {
      "provenance": [],
      "authorship_tag": "ABX9TyMD5TdCBKE1KT7eJfR2yf9R",
      "include_colab_link": true
    },
    "kernelspec": {
      "name": "python3",
      "display_name": "Python 3"
    },
    "language_info": {
      "name": "python"
    }
  },
  "cells": [
    {
      "cell_type": "markdown",
      "metadata": {
        "id": "view-in-github",
        "colab_type": "text"
      },
      "source": [
        "<a href=\"https://colab.research.google.com/github/Sadman26/FUZZY/blob/master/InceptionV3_Strawberry.ipynb\" target=\"_parent\"><img src=\"https://colab.research.google.com/assets/colab-badge.svg\" alt=\"Open In Colab\"/></a>"
      ]
    },
    {
      "cell_type": "code",
      "execution_count": 1,
      "metadata": {
        "id": "jxhgzfYzfAvo"
      },
      "outputs": [],
      "source": [
        "from google.colab import drive\n",
        "import tensorflow as tf\n",
        "from tensorflow.keras.preprocessing.image import ImageDataGenerator\n",
        "from tensorflow.keras.applications import InceptionV3"
      ]
    },
    {
      "cell_type": "code",
      "source": [
        "drive.mount('/content/drive')"
      ],
      "metadata": {
        "colab": {
          "base_uri": "https://localhost:8080/"
        },
        "id": "hockAkaCfO6A",
        "outputId": "7795655f-6dfc-49d4-e7f5-6f0c0c7bb79e"
      },
      "execution_count": 2,
      "outputs": [
        {
          "output_type": "stream",
          "name": "stdout",
          "text": [
            "Mounted at /content/drive\n"
          ]
        }
      ]
    },
    {
      "cell_type": "code",
      "source": [
        "drive.mount(\"/content/drive/\", force_remount=True)"
      ],
      "metadata": {
        "colab": {
          "base_uri": "https://localhost:8080/"
        },
        "id": "GXmL-p4iff6g",
        "outputId": "a3ffb75f-eb06-4515-8128-1ae8c22150d3"
      },
      "execution_count": 3,
      "outputs": [
        {
          "output_type": "stream",
          "name": "stdout",
          "text": [
            "Mounted at /content/drive/\n"
          ]
        }
      ]
    },
    {
      "cell_type": "code",
      "source": [
        "train_dir = '/content/drive/MyDrive/strawberry/sl_train'\n",
        "validation_dir = '/content/drive/MyDrive/strawberry/sl_test'"
      ],
      "metadata": {
        "id": "gYbPFQfxfk0E"
      },
      "execution_count": 4,
      "outputs": []
    },
    {
      "cell_type": "code",
      "source": [
        "IMG_SIZE = (224, 224)\n",
        "BATCH_SIZE = 32"
      ],
      "metadata": {
        "id": "_65uW2v5f34M"
      },
      "execution_count": 5,
      "outputs": []
    },
    {
      "cell_type": "code",
      "source": [
        "train_datagen = ImageDataGenerator(rescale=1./255,\n",
        "                                   rotation_range=20,\n",
        "                                   width_shift_range=0.2,\n",
        "                                   height_shift_range=0.2,\n",
        "                                   shear_range=0.2,\n",
        "                                   zoom_range=0.2,\n",
        "                                   horizontal_flip=True,\n",
        "                                   vertical_flip=True)\n"
      ],
      "metadata": {
        "id": "fNBnuJqzgKfd"
      },
      "execution_count": 6,
      "outputs": []
    },
    {
      "cell_type": "code",
      "source": [
        "validation_datagen = ImageDataGenerator(rescale=1./255)\n",
        "\n",
        "train_generator = train_datagen.flow_from_directory(train_dir,\n",
        "                                                    target_size=IMG_SIZE,\n",
        "                                                    batch_size=BATCH_SIZE,\n",
        "                                                    class_mode='categorical')\n",
        "\n",
        "validation_generator = validation_datagen.flow_from_directory(validation_dir,\n",
        "                                                              target_size=IMG_SIZE,\n",
        "                                                              batch_size=BATCH_SIZE,\n",
        "                                                              class_mode='categorical')"
      ],
      "metadata": {
        "colab": {
          "base_uri": "https://localhost:8080/"
        },
        "id": "fE5tuvW1gOsN",
        "outputId": "ed2d50c0-0d24-43f0-af4c-a5d43ccb66bb"
      },
      "execution_count": 7,
      "outputs": [
        {
          "output_type": "stream",
          "name": "stdout",
          "text": [
            "Found 775 images belonging to 3 classes.\n",
            "Found 689 images belonging to 3 classes.\n"
          ]
        }
      ]
    },
    {
      "cell_type": "code",
      "source": [
        "# Load the InceptionV3 model and freeze its layers\n",
        "base_model = InceptionV3(weights='imagenet', include_top=False, input_shape=(IMG_SIZE[0], IMG_SIZE[1], 3))\n",
        "for layer in base_model.layers:\n",
        "    layer.trainable = False"
      ],
      "metadata": {
        "colab": {
          "base_uri": "https://localhost:8080/"
        },
        "id": "ByX3_KrYPgmN",
        "outputId": "2dc26cf1-3ace-4faf-ddbe-2fbde2bb6b26"
      },
      "execution_count": 8,
      "outputs": [
        {
          "output_type": "stream",
          "name": "stdout",
          "text": [
            "Downloading data from https://storage.googleapis.com/tensorflow/keras-applications/inception_v3/inception_v3_weights_tf_dim_ordering_tf_kernels_notop.h5\n",
            "87910968/87910968 [==============================] - 1s 0us/step\n"
          ]
        }
      ]
    },
    {
      "cell_type": "code",
      "source": [
        "# Add a custom classifier on top of the base model\n",
        "model = tf.keras.Sequential([\n",
        "    base_model,\n",
        "    tf.keras.layers.GlobalAveragePooling2D(),\n",
        "    tf.keras.layers.Dense(3, activation='softmax')\n",
        "])"
      ],
      "metadata": {
        "id": "wRwl_vp_gUaM"
      },
      "execution_count": 12,
      "outputs": []
    },
    {
      "cell_type": "code",
      "source": [
        "# Compile the model\n",
        "model.compile(optimizer='adam', loss='categorical_crossentropy', metrics=['accuracy'])"
      ],
      "metadata": {
        "id": "6nMHiEo_gaJC"
      },
      "execution_count": 13,
      "outputs": []
    },
    {
      "cell_type": "code",
      "source": [
        "# Train the model\n",
        "history = model.fit(train_generator,\n",
        "                    epochs=10,\n",
        "                    validation_data=validation_generator)"
      ],
      "metadata": {
        "colab": {
          "base_uri": "https://localhost:8080/"
        },
        "id": "9Aig17c9geDX",
        "outputId": "98704f76-dad7-4bde-dbe1-d8a8fdf16e41"
      },
      "execution_count": 14,
      "outputs": [
        {
          "output_type": "stream",
          "name": "stdout",
          "text": [
            "Epoch 1/10\n",
            "25/25 [==============================] - 263s 10s/step - loss: 0.7173 - accuracy: 0.7535 - val_loss: 0.1937 - val_accuracy: 0.9289\n",
            "Epoch 2/10\n",
            "25/25 [==============================] - 260s 11s/step - loss: 0.1620 - accuracy: 0.9394 - val_loss: 0.0955 - val_accuracy: 0.9768\n",
            "Epoch 3/10\n",
            "25/25 [==============================] - 253s 10s/step - loss: 0.1229 - accuracy: 0.9548 - val_loss: 0.0757 - val_accuracy: 0.9826\n",
            "Epoch 4/10\n",
            "25/25 [==============================] - 256s 10s/step - loss: 0.0942 - accuracy: 0.9690 - val_loss: 0.0617 - val_accuracy: 0.9884\n",
            "Epoch 5/10\n",
            "25/25 [==============================] - 203s 8s/step - loss: 0.0742 - accuracy: 0.9703 - val_loss: 0.0585 - val_accuracy: 0.9855\n",
            "Epoch 6/10\n",
            "25/25 [==============================] - 257s 10s/step - loss: 0.0589 - accuracy: 0.9832 - val_loss: 0.0509 - val_accuracy: 0.9898\n",
            "Epoch 7/10\n",
            "25/25 [==============================] - 256s 10s/step - loss: 0.0603 - accuracy: 0.9819 - val_loss: 0.0494 - val_accuracy: 0.9840\n",
            "Epoch 8/10\n",
            "25/25 [==============================] - 253s 10s/step - loss: 0.0524 - accuracy: 0.9845 - val_loss: 0.0395 - val_accuracy: 0.9927\n",
            "Epoch 9/10\n",
            "25/25 [==============================] - 253s 10s/step - loss: 0.0555 - accuracy: 0.9794 - val_loss: 0.0368 - val_accuracy: 0.9956\n",
            "Epoch 10/10\n",
            "25/25 [==============================] - 254s 10s/step - loss: 0.0430 - accuracy: 0.9884 - val_loss: 0.0316 - val_accuracy: 0.9942\n"
          ]
        }
      ]
    },
    {
      "cell_type": "code",
      "source": [
        "loss, accuracy = model.evaluate(validation_generator)\n",
        "print('Validation accuracy:', accuracy)"
      ],
      "metadata": {
        "colab": {
          "base_uri": "https://localhost:8080/"
        },
        "id": "uxmMV6DplYtI",
        "outputId": "2c153b05-feab-47be-a136-7eca10460194"
      },
      "execution_count": 15,
      "outputs": [
        {
          "output_type": "stream",
          "name": "stdout",
          "text": [
            "22/22 [==============================] - 91s 4s/step - loss: 0.0316 - accuracy: 0.9942\n",
            "Validation accuracy: 0.994194507598877\n"
          ]
        }
      ]
    }
  ]
}