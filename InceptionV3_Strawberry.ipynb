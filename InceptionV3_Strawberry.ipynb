{
  "nbformat": 4,
  "nbformat_minor": 0,
  "metadata": {
    "colab": {
      "provenance": [],
      "authorship_tag": "ABX9TyMDE0/Jk3Y4itW5w4qX6Ero"
    },
    "kernelspec": {
      "name": "python3",
      "display_name": "Python 3"
    },
    "language_info": {
      "name": "python"
    }
  },
  "cells": [
    {
      "cell_type": "code",
      "execution_count": 9,
      "metadata": {
        "id": "jxhgzfYzfAvo"
      },
      "outputs": [],
      "source": [
        "from google.colab import drive\n",
        "import tensorflow as tf\n",
        "from tensorflow.keras.preprocessing.image import ImageDataGenerator\n",
        "from tensorflow.keras.applications import InceptionV3"
      ]
    },
    {
      "cell_type": "code",
      "source": [
        "drive.mount('/content/drive')"
      ],
      "metadata": {
        "colab": {
          "base_uri": "https://localhost:8080/"
        },
        "id": "hockAkaCfO6A",
        "outputId": "cdd03cf7-a993-4d0d-8d3e-217d0795a26d"
      },
      "execution_count": 10,
      "outputs": [
        {
          "output_type": "stream",
          "name": "stdout",
          "text": [
            "Drive already mounted at /content/drive; to attempt to forcibly remount, call drive.mount(\"/content/drive\", force_remount=True).\n"
          ]
        }
      ]
    },
    {
      "cell_type": "code",
      "source": [
        "drive.mount(\"/content/drive/\", force_remount=True)"
      ],
      "metadata": {
        "colab": {
          "base_uri": "https://localhost:8080/"
        },
        "id": "GXmL-p4iff6g",
        "outputId": "ded0e248-e596-4f0d-a4f9-f860cc333072"
      },
      "execution_count": 11,
      "outputs": [
        {
          "output_type": "stream",
          "name": "stdout",
          "text": [
            "Mounted at /content/drive/\n"
          ]
        }
      ]
    },
    {
      "cell_type": "code",
      "source": [
        "train_dir = '/content/drive/MyDrive/strawberry/sl_train'\n",
        "validation_dir = '/content/drive/MyDrive/strawberry/sl_test'"
      ],
      "metadata": {
        "id": "gYbPFQfxfk0E"
      },
      "execution_count": 12,
      "outputs": []
    },
    {
      "cell_type": "code",
      "source": [
        "IMG_SIZE = (224, 224)\n",
        "BATCH_SIZE = 32"
      ],
      "metadata": {
        "id": "_65uW2v5f34M"
      },
      "execution_count": 13,
      "outputs": []
    },
    {
      "cell_type": "code",
      "source": [
        "train_datagen = ImageDataGenerator(rescale=1./255,\n",
        "                                   rotation_range=20,\n",
        "                                   width_shift_range=0.2,\n",
        "                                   height_shift_range=0.2,\n",
        "                                   shear_range=0.2,\n",
        "                                   zoom_range=0.2,\n",
        "                                   horizontal_flip=True,\n",
        "                                   vertical_flip=True)\n"
      ],
      "metadata": {
        "id": "fNBnuJqzgKfd"
      },
      "execution_count": 14,
      "outputs": []
    },
    {
      "cell_type": "code",
      "source": [
        "validation_datagen = ImageDataGenerator(rescale=1./255)\n",
        "\n",
        "train_generator = train_datagen.flow_from_directory(train_dir,\n",
        "                                                    target_size=IMG_SIZE,\n",
        "                                                    batch_size=BATCH_SIZE,\n",
        "                                                    class_mode='categorical')\n",
        "\n",
        "validation_generator = validation_datagen.flow_from_directory(validation_dir,\n",
        "                                                              target_size=IMG_SIZE,\n",
        "                                                              batch_size=BATCH_SIZE,\n",
        "                                                              class_mode='categorical')"
      ],
      "metadata": {
        "colab": {
          "base_uri": "https://localhost:8080/"
        },
        "id": "fE5tuvW1gOsN",
        "outputId": "5f91d9b2-43a6-4a0c-c847-9e563bbca309"
      },
      "execution_count": 15,
      "outputs": [
        {
          "output_type": "stream",
          "name": "stdout",
          "text": [
            "Found 338 images belonging to 2 classes.\n",
            "Found 252 images belonging to 2 classes.\n"
          ]
        }
      ]
    },
    {
      "cell_type": "code",
      "source": [
        "# Load the InceptionV3 model and freeze its layers\n",
        "base_model = InceptionV3(weights='imagenet', include_top=False, input_shape=(IMG_SIZE[0], IMG_SIZE[1], 3))\n",
        "for layer in base_model.layers:\n",
        "    layer.trainable = False"
      ],
      "metadata": {
        "colab": {
          "base_uri": "https://localhost:8080/"
        },
        "id": "ByX3_KrYPgmN",
        "outputId": "07b92038-9ae4-4f90-f1fc-d39e13fb597b"
      },
      "execution_count": 16,
      "outputs": [
        {
          "output_type": "stream",
          "name": "stdout",
          "text": [
            "Downloading data from https://storage.googleapis.com/tensorflow/keras-applications/inception_v3/inception_v3_weights_tf_dim_ordering_tf_kernels_notop.h5\n",
            "87910968/87910968 [==============================] - 5s 0us/step\n"
          ]
        }
      ]
    },
    {
      "cell_type": "code",
      "source": [
        "# Add a custom classifier on top of the base model\n",
        "model = tf.keras.Sequential([\n",
        "    base_model,\n",
        "    tf.keras.layers.GlobalAveragePooling2D(),\n",
        "    tf.keras.layers.Dense(2, activation='softmax')\n",
        "])"
      ],
      "metadata": {
        "id": "wRwl_vp_gUaM"
      },
      "execution_count": 17,
      "outputs": []
    },
    {
      "cell_type": "code",
      "source": [
        "# Compile the model\n",
        "model.compile(optimizer='adam', loss='categorical_crossentropy', metrics=['accuracy'])"
      ],
      "metadata": {
        "id": "6nMHiEo_gaJC"
      },
      "execution_count": 18,
      "outputs": []
    },
    {
      "cell_type": "code",
      "source": [
        "# Train the model\n",
        "history = model.fit(train_generator,\n",
        "                    epochs=10,\n",
        "                    validation_data=validation_generator)"
      ],
      "metadata": {
        "colab": {
          "base_uri": "https://localhost:8080/"
        },
        "id": "9Aig17c9geDX",
        "outputId": "28a58a17-b8da-43e2-ba57-492ff296ea67"
      },
      "execution_count": 19,
      "outputs": [
        {
          "output_type": "stream",
          "name": "stdout",
          "text": [
            "Epoch 1/10\n",
            "11/11 [==============================] - 104s 9s/step - loss: 0.3493 - accuracy: 0.8491 - val_loss: 0.2286 - val_accuracy: 0.9048\n",
            "Epoch 2/10\n",
            "11/11 [==============================] - 70s 7s/step - loss: 0.1103 - accuracy: 0.9586 - val_loss: 0.0913 - val_accuracy: 0.9762\n",
            "Epoch 3/10\n",
            "11/11 [==============================] - 83s 8s/step - loss: 0.0564 - accuracy: 0.9822 - val_loss: 0.1051 - val_accuracy: 0.9563\n",
            "Epoch 4/10\n",
            "11/11 [==============================] - 81s 8s/step - loss: 0.0663 - accuracy: 0.9852 - val_loss: 0.0664 - val_accuracy: 0.9802\n",
            "Epoch 5/10\n",
            "11/11 [==============================] - 81s 8s/step - loss: 0.0583 - accuracy: 0.9822 - val_loss: 0.0627 - val_accuracy: 0.9841\n",
            "Epoch 6/10\n",
            "11/11 [==============================] - 82s 8s/step - loss: 0.0320 - accuracy: 0.9941 - val_loss: 0.0664 - val_accuracy: 0.9762\n",
            "Epoch 7/10\n",
            "11/11 [==============================] - 81s 8s/step - loss: 0.0405 - accuracy: 0.9941 - val_loss: 0.0507 - val_accuracy: 0.9841\n",
            "Epoch 8/10\n",
            "11/11 [==============================] - 82s 8s/step - loss: 0.0486 - accuracy: 0.9852 - val_loss: 0.0518 - val_accuracy: 0.9841\n",
            "Epoch 9/10\n",
            "11/11 [==============================] - 81s 8s/step - loss: 0.0266 - accuracy: 0.9941 - val_loss: 0.0570 - val_accuracy: 0.9762\n",
            "Epoch 10/10\n",
            "11/11 [==============================] - 68s 6s/step - loss: 0.0420 - accuracy: 0.9882 - val_loss: 0.0452 - val_accuracy: 0.9881\n"
          ]
        }
      ]
    },
    {
      "cell_type": "code",
      "source": [
        "loss, accuracy = model.evaluate(validation_generator)\n",
        "print('Validation accuracy:', accuracy)"
      ],
      "metadata": {
        "colab": {
          "base_uri": "https://localhost:8080/"
        },
        "id": "uxmMV6DplYtI",
        "outputId": "24176bdd-b586-4eea-aef9-d5981e52cb04"
      },
      "execution_count": 21,
      "outputs": [
        {
          "output_type": "stream",
          "name": "stdout",
          "text": [
            "8/8 [==============================] - 30s 3s/step - loss: 0.0452 - accuracy: 0.9881\n",
            "Validation accuracy: 0.988095223903656\n"
          ]
        }
      ]
    }
  ]
}