{
  "nbformat": 4,
  "nbformat_minor": 0,
  "metadata": {
    "colab": {
      "provenance": [],
      "authorship_tag": "ABX9TyPTNJ0IvBrBQOy23IJ+dBSP",
      "include_colab_link": true
    },
    "kernelspec": {
      "name": "python3",
      "display_name": "Python 3"
    },
    "language_info": {
      "name": "python"
    }
  },
  "cells": [
    {
      "cell_type": "markdown",
      "metadata": {
        "id": "view-in-github",
        "colab_type": "text"
      },
      "source": [
        "<a href=\"https://colab.research.google.com/github/Sadman26/FUZZY/blob/master/InceptionV3_Strawberry.ipynb\" target=\"_parent\"><img src=\"https://colab.research.google.com/assets/colab-badge.svg\" alt=\"Open In Colab\"/></a>"
      ]
    },
    {
      "cell_type": "code",
      "execution_count": 46,
      "metadata": {
        "id": "jxhgzfYzfAvo"
      },
      "outputs": [],
      "source": [
        "from google.colab import drive\n",
        "import os\n",
        "import numpy as np\n",
        "import matplotlib.pyplot as plt\n",
        "from tensorflow.keras.preprocessing import image\n",
        "import tensorflow as tf\n",
        "from tensorflow.keras.preprocessing.image import ImageDataGenerator\n",
        "from tensorflow.keras.applications import InceptionV3"
      ]
    },
    {
      "cell_type": "code",
      "source": [
        "drive.mount('/content/drive')"
      ],
      "metadata": {
        "colab": {
          "base_uri": "https://localhost:8080/"
        },
        "id": "hockAkaCfO6A",
        "outputId": "c12e57dd-fa47-4ecf-8e18-16e522eca5aa"
      },
      "execution_count": 47,
      "outputs": [
        {
          "output_type": "stream",
          "name": "stdout",
          "text": [
            "Drive already mounted at /content/drive; to attempt to forcibly remount, call drive.mount(\"/content/drive\", force_remount=True).\n"
          ]
        }
      ]
    },
    {
      "cell_type": "code",
      "source": [
        "drive.mount(\"/content/drive/\", force_remount=True)"
      ],
      "metadata": {
        "colab": {
          "base_uri": "https://localhost:8080/"
        },
        "id": "GXmL-p4iff6g",
        "outputId": "a537ee84-3858-4048-9032-ea629844ec6e"
      },
      "execution_count": 48,
      "outputs": [
        {
          "output_type": "stream",
          "name": "stdout",
          "text": [
            "Mounted at /content/drive/\n"
          ]
        }
      ]
    },
    {
      "cell_type": "code",
      "source": [
        "train_dir = '/content/drive/MyDrive/strawberry/sl_train'\n",
        "validation_dir = '/content/drive/MyDrive/strawberry/sl_test'\n",
        "predict_dir = '/content/drive/MyDrive/strawberry/sl_valid'"
      ],
      "metadata": {
        "id": "gYbPFQfxfk0E"
      },
      "execution_count": 49,
      "outputs": []
    },
    {
      "cell_type": "code",
      "source": [
        "IMG_SIZE = (224, 224)\n",
        "BATCH_SIZE = 32"
      ],
      "metadata": {
        "id": "_65uW2v5f34M"
      },
      "execution_count": 50,
      "outputs": []
    },
    {
      "cell_type": "code",
      "source": [
        "train_datagen = ImageDataGenerator(rescale=1./255,\n",
        "                                   rotation_range=20,\n",
        "                                   width_shift_range=0.2,\n",
        "                                   height_shift_range=0.2,\n",
        "                                   shear_range=0.2,\n",
        "                                   zoom_range=0.2,\n",
        "                                   horizontal_flip=True,\n",
        "                                   vertical_flip=True)\n"
      ],
      "metadata": {
        "id": "fNBnuJqzgKfd"
      },
      "execution_count": 51,
      "outputs": []
    },
    {
      "cell_type": "code",
      "source": [
        "validation_datagen = ImageDataGenerator(rescale=1./255)\n",
        "\n",
        "train_generator = train_datagen.flow_from_directory(train_dir,\n",
        "                                                    target_size=IMG_SIZE,\n",
        "                                                    batch_size=BATCH_SIZE,\n",
        "                                                    class_mode='categorical')\n",
        "\n",
        "validation_generator = validation_datagen.flow_from_directory(validation_dir,\n",
        "                                                              target_size=IMG_SIZE,\n",
        "                                                              batch_size=BATCH_SIZE,\n",
        "                                                              class_mode='categorical')"
      ],
      "metadata": {
        "colab": {
          "base_uri": "https://localhost:8080/"
        },
        "id": "fE5tuvW1gOsN",
        "outputId": "0e22e4e8-f878-4018-ebd8-559a449b815b"
      },
      "execution_count": 52,
      "outputs": [
        {
          "output_type": "stream",
          "name": "stdout",
          "text": [
            "Found 775 images belonging to 3 classes.\n",
            "Found 689 images belonging to 3 classes.\n"
          ]
        }
      ]
    },
    {
      "cell_type": "code",
      "source": [
        "# Load the InceptionV3 model and freeze its layers\n",
        "base_model = InceptionV3(weights='imagenet', include_top=False, input_shape=(IMG_SIZE[0], IMG_SIZE[1], 3))\n",
        "for layer in base_model.layers:\n",
        "    layer.trainable = False"
      ],
      "metadata": {
        "id": "ByX3_KrYPgmN"
      },
      "execution_count": 53,
      "outputs": []
    },
    {
      "cell_type": "code",
      "source": [
        "# Add a custom classifier on top of the base model\n",
        "model = tf.keras.Sequential([\n",
        "    base_model,\n",
        "    tf.keras.layers.GlobalAveragePooling2D(),\n",
        "    tf.keras.layers.Dense(3, activation='softmax')\n",
        "])"
      ],
      "metadata": {
        "id": "wRwl_vp_gUaM"
      },
      "execution_count": 57,
      "outputs": []
    },
    {
      "cell_type": "code",
      "source": [
        "# Compile the model\n",
        "model.compile(optimizer='adam', loss='categorical_crossentropy', metrics=['accuracy'])"
      ],
      "metadata": {
        "id": "6nMHiEo_gaJC"
      },
      "execution_count": 58,
      "outputs": []
    },
    {
      "cell_type": "code",
      "source": [
        "# Train the model\n",
        "history = model.fit(train_generator,\n",
        "                    epochs=10, \n",
        "                    validation_data=validation_generator)"
      ],
      "metadata": {
        "colab": {
          "base_uri": "https://localhost:8080/"
        },
        "id": "9Aig17c9geDX",
        "outputId": "77d03b62-b40e-4a7c-ed32-90727b4a6c59"
      },
      "execution_count": 60,
      "outputs": [
        {
          "output_type": "stream",
          "name": "stdout",
          "text": [
            "Epoch 1/10\n",
            "25/25 [==============================] - 213s 9s/step - loss: 0.0297 - accuracy: 0.9923 - val_loss: 0.0274 - val_accuracy: 0.9971\n",
            "Epoch 2/10\n",
            "25/25 [==============================] - 254s 10s/step - loss: 0.0359 - accuracy: 0.9871 - val_loss: 0.0273 - val_accuracy: 0.9971\n",
            "Epoch 3/10\n",
            "25/25 [==============================] - 255s 10s/step - loss: 0.0309 - accuracy: 0.9897 - val_loss: 0.0269 - val_accuracy: 0.9971\n",
            "Epoch 4/10\n",
            "25/25 [==============================] - 254s 10s/step - loss: 0.0403 - accuracy: 0.9858 - val_loss: 0.0233 - val_accuracy: 0.9971\n",
            "Epoch 5/10\n",
            "25/25 [==============================] - 256s 10s/step - loss: 0.0404 - accuracy: 0.9819 - val_loss: 0.0215 - val_accuracy: 0.9985\n",
            "Epoch 6/10\n",
            "25/25 [==============================] - 202s 8s/step - loss: 0.0264 - accuracy: 0.9948 - val_loss: 0.0228 - val_accuracy: 0.9985\n",
            "Epoch 7/10\n",
            "25/25 [==============================] - 253s 10s/step - loss: 0.0342 - accuracy: 0.9884 - val_loss: 0.0202 - val_accuracy: 0.9985\n",
            "Epoch 8/10\n",
            "25/25 [==============================] - 256s 10s/step - loss: 0.0220 - accuracy: 0.9974 - val_loss: 0.0209 - val_accuracy: 0.9985\n",
            "Epoch 9/10\n",
            "25/25 [==============================] - 206s 8s/step - loss: 0.0253 - accuracy: 0.9935 - val_loss: 0.0175 - val_accuracy: 0.9985\n",
            "Epoch 10/10\n",
            "25/25 [==============================] - 260s 11s/step - loss: 0.0286 - accuracy: 0.9897 - val_loss: 0.0174 - val_accuracy: 0.9985\n"
          ]
        }
      ]
    },
    {
      "cell_type": "code",
      "source": [
        "loss, accuracy = model.evaluate(validation_generator)\n",
        "print('Validation accuracy:', accuracy)"
      ],
      "metadata": {
        "colab": {
          "base_uri": "https://localhost:8080/"
        },
        "id": "uxmMV6DplYtI",
        "outputId": "311f1847-39fd-4234-a2c7-a3e68edf7bc9"
      },
      "execution_count": 61,
      "outputs": [
        {
          "output_type": "stream",
          "name": "stdout",
          "text": [
            "22/22 [==============================] - 93s 4s/step - loss: 0.0174 - accuracy: 0.9985\n",
            "Validation accuracy: 0.9985486268997192\n"
          ]
        }
      ]
    },
    {
      "cell_type": "code",
      "source": [
        "model_path = '/content/drive/MyDrive/inceptionv3.h5'\n",
        "model.save(model_path)"
      ],
      "metadata": {
        "id": "4kJC-gA097Q0"
      },
      "execution_count": 62,
      "outputs": []
    }
  ]
}