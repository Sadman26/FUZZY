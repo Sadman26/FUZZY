{
  "nbformat": 4,
  "nbformat_minor": 0,
  "metadata": {
    "colab": {
      "provenance": [],
      "authorship_tag": "ABX9TyPoILmKiM/GfyyGaIKzeB/y"
    },
    "kernelspec": {
      "name": "python3",
      "display_name": "Python 3"
    },
    "language_info": {
      "name": "python"
    }
  },
  "cells": [
    {
      "cell_type": "code",
      "execution_count": 1,
      "metadata": {
        "id": "jxhgzfYzfAvo"
      },
      "outputs": [],
      "source": [
        "from google.colab import drive\n",
        "import tensorflow as tf\n",
        "from tensorflow.keras.preprocessing.image import ImageDataGenerator\n",
        "from tensorflow.keras.applications import ResNet50\n",
        "from tensorflow.keras.applications import VGG16"
      ]
    },
    {
      "cell_type": "code",
      "source": [
        "drive.mount('/content/drive')"
      ],
      "metadata": {
        "colab": {
          "base_uri": "https://localhost:8080/"
        },
        "id": "hockAkaCfO6A",
        "outputId": "ded4d9c8-0523-4952-87e2-705d2a7ede16"
      },
      "execution_count": 2,
      "outputs": [
        {
          "output_type": "stream",
          "name": "stdout",
          "text": [
            "Mounted at /content/drive\n"
          ]
        }
      ]
    },
    {
      "cell_type": "code",
      "source": [
        "drive.mount(\"/content/drive/\", force_remount=True)"
      ],
      "metadata": {
        "colab": {
          "base_uri": "https://localhost:8080/"
        },
        "id": "GXmL-p4iff6g",
        "outputId": "f0955b1b-e88a-4b44-e184-0fa0e9573950"
      },
      "execution_count": 3,
      "outputs": [
        {
          "output_type": "stream",
          "name": "stdout",
          "text": [
            "Mounted at /content/drive/\n"
          ]
        }
      ]
    },
    {
      "cell_type": "code",
      "source": [
        "train_dir = '/content/drive/MyDrive/strawberry/sl_train'\n",
        "validation_dir = '/content/drive/MyDrive/strawberry/sl_test'"
      ],
      "metadata": {
        "id": "gYbPFQfxfk0E"
      },
      "execution_count": 4,
      "outputs": []
    },
    {
      "cell_type": "code",
      "source": [
        "IMG_SIZE = (224, 224)\n",
        "BATCH_SIZE = 32"
      ],
      "metadata": {
        "id": "_65uW2v5f34M"
      },
      "execution_count": 5,
      "outputs": []
    },
    {
      "cell_type": "code",
      "source": [
        "train_datagen = ImageDataGenerator(rescale=1./255,\n",
        "                                   rotation_range=20,\n",
        "                                   width_shift_range=0.2,\n",
        "                                   height_shift_range=0.2,\n",
        "                                   shear_range=0.2,\n",
        "                                   zoom_range=0.2,\n",
        "                                   horizontal_flip=True,\n",
        "                                   vertical_flip=True)\n"
      ],
      "metadata": {
        "id": "fNBnuJqzgKfd"
      },
      "execution_count": 6,
      "outputs": []
    },
    {
      "cell_type": "code",
      "source": [
        "validation_datagen = ImageDataGenerator(rescale=1./255)\n",
        "\n",
        "train_generator = train_datagen.flow_from_directory(train_dir,\n",
        "                                                    target_size=IMG_SIZE,\n",
        "                                                    batch_size=BATCH_SIZE,\n",
        "                                                    class_mode='categorical')\n",
        "\n",
        "validation_generator = validation_datagen.flow_from_directory(validation_dir,\n",
        "                                                              target_size=IMG_SIZE,\n",
        "                                                              batch_size=BATCH_SIZE,\n",
        "                                                              class_mode='categorical')"
      ],
      "metadata": {
        "colab": {
          "base_uri": "https://localhost:8080/"
        },
        "id": "fE5tuvW1gOsN",
        "outputId": "038411d7-5373-4c2a-ea17-1b1db2fd912d"
      },
      "execution_count": 7,
      "outputs": [
        {
          "output_type": "stream",
          "name": "stdout",
          "text": [
            "Found 338 images belonging to 2 classes.\n",
            "Found 252 images belonging to 2 classes.\n"
          ]
        }
      ]
    },
    {
      "cell_type": "code",
      "source": [
        "# Build the CNN model\n",
        "model = tf.keras.Sequential([\n",
        "    tf.keras.layers.Conv2D(32, (3, 3), activation='relu', input_shape=(IMG_SIZE[0], IMG_SIZE[1], 3)),\n",
        "    tf.keras.layers.MaxPooling2D((2, 2)),\n",
        "    tf.keras.layers.Conv2D(64, (3, 3), activation='relu'),\n",
        "    tf.keras.layers.MaxPooling2D((2, 2)),\n",
        "    tf.keras.layers.Conv2D(128, (3, 3), activation='relu'),\n",
        "    tf.keras.layers.MaxPooling2D((2, 2)),\n",
        "    tf.keras.layers.Flatten(),\n",
        "    tf.keras.layers.Dense(128, activation='relu'),\n",
        "    tf.keras.layers.Dense(2, activation='softmax')\n",
        "])\n"
      ],
      "metadata": {
        "id": "wRwl_vp_gUaM"
      },
      "execution_count": 8,
      "outputs": []
    },
    {
      "cell_type": "code",
      "source": [
        "# Compile the model\n",
        "model.compile(optimizer='adam', loss='categorical_crossentropy', metrics=['accuracy'])"
      ],
      "metadata": {
        "id": "6nMHiEo_gaJC"
      },
      "execution_count": 9,
      "outputs": []
    },
    {
      "cell_type": "code",
      "source": [
        "# Train the model\n",
        "history = model.fit(train_generator,\n",
        "                    epochs=10,\n",
        "                    validation_data=validation_generator)"
      ],
      "metadata": {
        "colab": {
          "base_uri": "https://localhost:8080/"
        },
        "id": "9Aig17c9geDX",
        "outputId": "e0e27489-94b9-47fc-d689-ffb319faf132"
      },
      "execution_count": 10,
      "outputs": [
        {
          "output_type": "stream",
          "name": "stdout",
          "text": [
            "Epoch 1/10\n",
            "11/11 [==============================] - 148s 14s/step - loss: 1.1451 - accuracy: 0.6746 - val_loss: 0.2615 - val_accuracy: 0.8690\n",
            "Epoch 2/10\n",
            "11/11 [==============================] - 65s 6s/step - loss: 0.1008 - accuracy: 0.9645 - val_loss: 1.0731 - val_accuracy: 0.6706\n",
            "Epoch 3/10\n",
            "11/11 [==============================] - 58s 5s/step - loss: 0.1217 - accuracy: 0.9675 - val_loss: 0.8660 - val_accuracy: 0.6746\n",
            "Epoch 4/10\n",
            "11/11 [==============================] - 68s 6s/step - loss: 0.0826 - accuracy: 0.9675 - val_loss: 0.5618 - val_accuracy: 0.7500\n",
            "Epoch 5/10\n",
            "11/11 [==============================] - 58s 5s/step - loss: 0.0675 - accuracy: 0.9675 - val_loss: 0.7529 - val_accuracy: 0.6825\n",
            "Epoch 6/10\n",
            "11/11 [==============================] - 58s 5s/step - loss: 0.0626 - accuracy: 0.9793 - val_loss: 0.5721 - val_accuracy: 0.7460\n",
            "Epoch 7/10\n",
            "11/11 [==============================] - 59s 5s/step - loss: 0.0647 - accuracy: 0.9704 - val_loss: 0.9048 - val_accuracy: 0.6746\n",
            "Epoch 8/10\n",
            "11/11 [==============================] - 59s 5s/step - loss: 0.0608 - accuracy: 0.9763 - val_loss: 0.7025 - val_accuracy: 0.6746\n",
            "Epoch 9/10\n",
            "11/11 [==============================] - 59s 5s/step - loss: 0.0366 - accuracy: 0.9911 - val_loss: 0.6706 - val_accuracy: 0.7024\n",
            "Epoch 10/10\n",
            "11/11 [==============================] - 58s 5s/step - loss: 0.0485 - accuracy: 0.9793 - val_loss: 0.7510 - val_accuracy: 0.6825\n"
          ]
        }
      ]
    },
    {
      "cell_type": "code",
      "source": [
        "loss, accuracy = model.evaluate(validation_generator)\n",
        "print('Validation accuracy:', accuracy)"
      ],
      "metadata": {
        "colab": {
          "base_uri": "https://localhost:8080/"
        },
        "id": "uxmMV6DplYtI",
        "outputId": "9de1bad7-8be2-48ab-f40a-5533dd1e2aac"
      },
      "execution_count": 11,
      "outputs": [
        {
          "output_type": "stream",
          "name": "stdout",
          "text": [
            "8/8 [==============================] - 11s 1s/step - loss: 0.7510 - accuracy: 0.6825\n",
            "Validation accuracy: 0.682539701461792\n"
          ]
        }
      ]
    }
  ]
}